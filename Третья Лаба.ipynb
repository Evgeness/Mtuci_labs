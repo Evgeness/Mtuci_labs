{
 "cells": [
  {
   "cell_type": "markdown",
   "id": "9dd97169-a292-4639-bbed-fa47cb60238a",
   "metadata": {},
   "source": [
    "Задание номер 1"
   ]
  },
  {
   "cell_type": "code",
   "execution_count": 1,
   "id": "0d65d4cc-87bd-49b8-87db-894b702bcd2d",
   "metadata": {},
   "outputs": [
    {
     "name": "stdin",
     "output_type": "stream",
     "text": [
      " r\n"
     ]
    },
    {
     "name": "stdout",
     "output_type": "stream",
     "text": [
      "Man i want sleep\n",
      "I love pelmeni\n"
     ]
    }
   ],
   "source": [
    "type = input()\n",
    "with open(\"example.txt\", type) as file:\n",
    "    content = file.read()\n",
    "print(content)\n"
   ]
  },
  {
   "cell_type": "code",
   "execution_count": 2,
   "id": "a8ee425c-54b7-44cf-a41c-4cb9db3b338d",
   "metadata": {},
   "outputs": [
    {
     "name": "stdin",
     "output_type": "stream",
     "text": [
      " r\n"
     ]
    },
    {
     "name": "stdout",
     "output_type": "stream",
     "text": [
      "I love pelmeni\n"
     ]
    }
   ],
   "source": [
    "type = input()\n",
    "with open(\"example.txt\", type) as file:\n",
    "    for line in file:\n",
    "        content = file.read()\n",
    "print(content)"
   ]
  },
  {
   "cell_type": "markdown",
   "id": "bbf6c031-72f8-4ab7-beed-fa396db98e71",
   "metadata": {},
   "source": [
    "Задание номер 2"
   ]
  },
  {
   "cell_type": "code",
   "execution_count": 4,
   "id": "f8165cc7-d67b-4e7f-af62-ad50696db3dc",
   "metadata": {},
   "outputs": [
    {
     "name": "stdin",
     "output_type": "stream",
     "text": [
      " rkjgltjdgl\n"
     ]
    }
   ],
   "source": [
    "user_text = input()\n",
    "with open(\"user_input.txt\", \"a\") as file:\n",
    "    file.write(f\"{user_text} \\n\")"
   ]
  },
  {
   "cell_type": "code",
   "execution_count": 5,
   "id": "3f174256-847c-422a-8e18-70d679d2fdfe",
   "metadata": {
    "scrolled": true
   },
   "outputs": [
    {
     "name": "stdout",
     "output_type": "stream",
     "text": [
      "i love pivo \n",
      "I love pivo \n",
      "and pelmeni \n",
      "k.dguh5erdfgruatwsdrlgk5hjreZRguh, m \n",
      "ggureri \n",
      "rkjgltjdgl \n",
      "\n"
     ]
    }
   ],
   "source": [
    "with open(\"user_input.txt\", \"r\") as file:\n",
    "    content = file.read()\n",
    "print(content)"
   ]
  },
  {
   "cell_type": "markdown",
   "id": "bd85ddb8-e1a7-4c61-86e5-acec01c3047f",
   "metadata": {},
   "source": [
    "Задание номер 3"
   ]
  },
  {
   "cell_type": "code",
   "execution_count": 2,
   "id": "f7d4033b-7c8b-45ce-92f7-870e2d1cc5e8",
   "metadata": {},
   "outputs": [
    {
     "name": "stdin",
     "output_type": "stream",
     "text": [
      "Enter the file name:  grwsefdg\n",
      " r\n"
     ]
    },
    {
     "name": "stdout",
     "output_type": "stream",
     "text": [
      "File not found, try again LOL\n"
     ]
    }
   ],
   "source": [
    "fname = input(\"Enter the file name: \")\n",
    "type = input()\n",
    "try:\n",
    "    with open(fname, type) as file:\n",
    "        content = file.read()\n",
    "        print(content)\n",
    "except:\n",
    "    print(\"File not found, try again LOL\")\n",
    "    exit()"
   ]
  },
  {
   "cell_type": "code",
   "execution_count": null,
   "id": "016db4bd-4197-468a-9d08-b7532f7ab783",
   "metadata": {},
   "outputs": [],
   "source": []
  }
 ],
 "metadata": {
  "kernelspec": {
   "display_name": "Python 3 (ipykernel)",
   "language": "python",
   "name": "python3"
  },
  "language_info": {
   "codemirror_mode": {
    "name": "ipython",
    "version": 3
   },
   "file_extension": ".py",
   "mimetype": "text/x-python",
   "name": "python",
   "nbconvert_exporter": "python",
   "pygments_lexer": "ipython3",
   "version": "3.12.6"
  }
 },
 "nbformat": 4,
 "nbformat_minor": 5
}
