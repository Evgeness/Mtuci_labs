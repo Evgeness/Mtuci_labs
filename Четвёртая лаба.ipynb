{
 "cells": [
  {
   "cell_type": "markdown",
   "id": "d27acf3d-075d-49b2-ad7b-b1332b6b9a95",
   "metadata": {},
   "source": [
    "Задание 1"
   ]
  },
  {
   "cell_type": "code",
   "execution_count": 1,
   "id": "41f77058-a899-4a5c-b852-e461a142d156",
   "metadata": {
    "scrolled": true
   },
   "outputs": [
    {
     "name": "stdin",
     "output_type": "stream",
     "text": [
      "Enter number 77\n"
     ]
    },
    {
     "name": "stdout",
     "output_type": "stream",
     "text": [
      "8.774964387392123\n",
      "2024-10-04 15:13:38.648311\n"
     ]
    }
   ],
   "source": [
    "import math\n",
    "import datetime\n",
    "num = int(input(\"Enter number\"))\n",
    "dt_now = datetime.datetime.now()\n",
    "print(math.sqrt(num))\n",
    "print(dt_now)"
   ]
  },
  {
   "cell_type": "markdown",
   "id": "b95d285f-0524-4418-96e7-b2395cdc9929",
   "metadata": {},
   "source": [
    "Задание 2"
   ]
  },
  {
   "cell_type": "code",
   "execution_count": null,
   "id": "d9187a87-e4d9-47ab-927d-6212d1b93fd3",
   "metadata": {},
   "outputs": [],
   "source": [
    "def hello_name(name):\n",
    "    return f\"hello {name}\"\n",
    "def sum(a, b):\n",
    "    c = a + b\n",
    "    return c"
   ]
  },
  {
   "cell_type": "code",
   "execution_count": 3,
   "id": "f9eb2650-548a-4113-a353-7fe793933901",
   "metadata": {},
   "outputs": [
    {
     "name": "stdin",
     "output_type": "stream",
     "text": [
      "Enter first number: 77\n",
      "Enter second number: 77\n",
      "Enter your name: Олег\n"
     ]
    },
    {
     "name": "stdout",
     "output_type": "stream",
     "text": [
      "154\n",
      "hello Олег\n"
     ]
    }
   ],
   "source": [
    "import my_module\n",
    "num1 = int(input(\"Enter first number:\"))\n",
    "num2 = int(input(\"Enter second number:\"))\n",
    "name = input(\"Enter your name:\")\n",
    "num = my_module.sum(num1, num2)\n",
    "name1 = my_module.hello_name(name)\n",
    "print(num)\n",
    "print(name1)"
   ]
  },
  {
   "cell_type": "markdown",
   "id": "bcd7bdb9-6377-4df8-ad23-623de9a2e23a",
   "metadata": {},
   "source": [
    "Задание 3"
   ]
  },
  {
   "cell_type": "code",
   "execution_count": 16,
   "id": "4821eeba-59f0-454f-907d-43acc90462ff",
   "metadata": {},
   "outputs": [],
   "source": [
    "def sum(a, b):\n",
    "    return a + b\n",
    "\n",
    "\n",
    "def multiplication(a, b):\n",
    "    return a * b\n",
    "\n",
    "\n",
    "def division(a, b):\n",
    "    return a // b\n",
    "\n",
    "\n",
    "def square(a, b):\n",
    "    return a ** b\n"
   ]
  },
  {
   "cell_type": "code",
   "execution_count": 3,
   "id": "e0f87c8a-565e-4edb-af4e-7c7920ab5221",
   "metadata": {},
   "outputs": [
    {
     "name": "stdin",
     "output_type": "stream",
     "text": [
      "Enter first number: 13\n",
      "Enter second number: 13\n"
     ]
    },
    {
     "name": "stdout",
     "output_type": "stream",
     "text": [
      "26\n",
      "169\n"
     ]
    }
   ],
   "source": [
    "import math_operations\n",
    "num1 = int(input(\"Enter first number:\"))\n",
    "num2 = int(input(\"Enter second number:\"))\n",
    "print(math_operations.sum(num1, num2))\n",
    "print(math_operations.multiplication(num1, num2))"
   ]
  },
  {
   "cell_type": "code",
   "execution_count": null,
   "id": "55a8819c-b550-4fc8-8902-26c5fc58ad34",
   "metadata": {},
   "outputs": [],
   "source": []
  }
 ],
 "metadata": {
  "kernelspec": {
   "display_name": "Python 3 (ipykernel)",
   "language": "python",
   "name": "python3"
  },
  "language_info": {
   "codemirror_mode": {
    "name": "ipython",
    "version": 3
   },
   "file_extension": ".py",
   "mimetype": "text/x-python",
   "name": "python",
   "nbconvert_exporter": "python",
   "pygments_lexer": "ipython3",
   "version": "3.12.7"
  }
 },
 "nbformat": 4,
 "nbformat_minor": 5
}
