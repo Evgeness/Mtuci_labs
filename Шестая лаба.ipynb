{
 "cells": [
  {
   "cell_type": "markdown",
   "id": "acb87f5c-55ea-49bb-87fa-0b61849d15c4",
   "metadata": {},
   "source": [
    "Задание 1"
   ]
  },
  {
   "cell_type": "code",
   "execution_count": 14,
   "id": "411ce8b5-9631-48d4-a728-5eb7708e987a",
   "metadata": {},
   "outputs": [
    {
     "name": "stdin",
     "output_type": "stream",
     "text": [
      "Введите имя: qweefr\n",
      "Введите почту: sadsfd\n",
      "Введите пароль: 1111\n",
      "Введите новый пароль: 1111\n"
     ]
    },
    {
     "name": "stdout",
     "output_type": "stream",
     "text": [
      "True\n"
     ]
    }
   ],
   "source": [
    "username = input(\"Введите имя:\")\n",
    "email = input(\"Введите почту:\")\n",
    "in_password = int(input(\"Введите пароль:\"))\n",
    "class UserAccount:\n",
    "\n",
    "    def __init__(self, username, email):\n",
    "        self.username = username\n",
    "        self.email = email\n",
    "        self.password = 1234\n",
    "\n",
    "\n",
    "    def set_password(self):\n",
    "        new_password = int(input(\"Введите новый пароль:\"))\n",
    "        pass\n",
    "        self.password = new_password\n",
    "\n",
    "\n",
    "    def check_password(self):\n",
    "        if in_password == self.password:\n",
    "            print(\"True\")\n",
    "        else:\n",
    "            print(\"False\")\n",
    "\n",
    "user = UserAccount(username, email)\n",
    "user.set_password()\n",
    "user.check_password()"
   ]
  },
  {
   "cell_type": "markdown",
   "id": "1cc66ced-a90a-4905-9226-b1d32f40b10e",
   "metadata": {},
   "source": [
    "Задание 2"
   ]
  },
  {
   "cell_type": "code",
   "execution_count": 15,
   "id": "d626a591-051d-4806-b2e1-74d94b40c268",
   "metadata": {},
   "outputs": [
    {
     "name": "stdout",
     "output_type": "stream",
     "text": [
      "('Porshe', 911)\n",
      "Автомобиль марки Porshe Модели 911 имеет тип топлива 95\n"
     ]
    }
   ],
   "source": [
    "class Vehicle:\n",
    "    def __init__(self):\n",
    "        self.make = \"Porshe\"\n",
    "        self.model = 911\n",
    "\n",
    "    def get_info(self):\n",
    "        return self.make, self.model\n",
    "\n",
    "\n",
    "class Car(Vehicle):\n",
    "    fuel_type = 95\n",
    "    def __init__(self, fuel_type):\n",
    "        super().__init__()\n",
    "        self.fuel_type = fuel_type\n",
    "\n",
    "    def get_info(self):\n",
    "        return f\"Автомобиль марки {self.make} Модели {self.model} имеет тип топлива {self.fuel_type}\"\n",
    "\n",
    "\n",
    "\n",
    "car = Car(fuel_type=95)\n",
    "vehicle = Vehicle()\n",
    "print(vehicle.get_info())\n",
    "print(car.get_info())\n"
   ]
  },
  {
   "cell_type": "code",
   "execution_count": null,
   "id": "bfd2ae46-b8eb-4ff6-8024-f155e50c9901",
   "metadata": {},
   "outputs": [],
   "source": []
  },
  {
   "cell_type": "code",
   "execution_count": null,
   "id": "1913d5d9-c45c-4516-9c7a-b89e4bccf466",
   "metadata": {},
   "outputs": [],
   "source": []
  }
 ],
 "metadata": {
  "kernelspec": {
   "display_name": "Python 3 (ipykernel)",
   "language": "python",
   "name": "python3"
  },
  "language_info": {
   "codemirror_mode": {
    "name": "ipython",
    "version": 3
   },
   "file_extension": ".py",
   "mimetype": "text/x-python",
   "name": "python",
   "nbconvert_exporter": "python",
   "pygments_lexer": "ipython3",
   "version": "3.12.7"
  }
 },
 "nbformat": 4,
 "nbformat_minor": 5
}
