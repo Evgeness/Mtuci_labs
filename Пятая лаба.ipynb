{
 "cells": [
  {
   "cell_type": "markdown",
   "id": "6ca87823-62ba-4494-818e-48804e3d7935",
   "metadata": {},
   "source": [
    "задание 1"
   ]
  },
  {
   "cell_type": "code",
   "execution_count": 4,
   "id": "f6f8ae75-7338-4638-891a-f4d856a4e811",
   "metadata": {},
   "outputs": [
    {
     "name": "stdout",
     "output_type": "stream",
     "text": [
      "Название книги: My dairy, Автор: Lalatina Ford Dastines, Год издания: 2024\n"
     ]
    }
   ],
   "source": [
    "class Book:\n",
    "    title = \"My dairy\"\n",
    "    author = \"Lalatina Ford Dastines\"\n",
    "    year = 2024\n",
    "\n",
    "    def get_info(self):\n",
    "        return f\"Название книги: {self.title}, Автор: {self.author}, Год издания: {self.year}\"\n",
    "\n",
    "book = Book()\n",
    "\n",
    "print(book.get_info())"
   ]
  },
  {
   "cell_type": "markdown",
   "id": "ceb259b8-2e84-4a03-8257-4b04606b2673",
   "metadata": {},
   "source": [
    "Задание 2"
   ]
  },
  {
   "cell_type": "code",
   "execution_count": 2,
   "id": "fb67b254-e201-4779-a1a1-1b411db0704f",
   "metadata": {},
   "outputs": [
    {
     "name": "stdin",
     "output_type": "stream",
     "text": [
      "Введите радиус: 11\n",
      "Введите новый радиус 56\n"
     ]
    },
    {
     "name": "stdout",
     "output_type": "stream",
     "text": [
      "Старый Радиус 11\n",
      "Новый радиус: 56\n"
     ]
    }
   ],
   "source": [
    "radius1 = int(input(\"Введите радиус:\"))\n",
    "new_radius1 = int(input(\"Введите новый радиус\"))\n",
    "\n",
    "class Circle:\n",
    "    def __init__(self, radius):\n",
    "        self.radius = radius\n",
    "\n",
    "    def get_radius(self):\n",
    "        return self.radius\n",
    "\n",
    "    def set_radius(self, new_radius):\n",
    "        self.radius = new_radius\n",
    "        return self.radius\n",
    "\n",
    "circle = Circle(radius1)\n",
    "\n",
    "print(\"Старый Радиус\",circle.get_radius())\n",
    "print(\"Новый радиус:\",circle.set_radius(new_radius1))\n",
    "\n"
   ]
  },
  {
   "cell_type": "code",
   "execution_count": null,
   "id": "aa5a10f0-f2de-49f4-8f74-f37a31999d89",
   "metadata": {},
   "outputs": [],
   "source": []
  }
 ],
 "metadata": {
  "kernelspec": {
   "display_name": "Python 3 (ipykernel)",
   "language": "python",
   "name": "python3"
  },
  "language_info": {
   "codemirror_mode": {
    "name": "ipython",
    "version": 3
   },
   "file_extension": ".py",
   "mimetype": "text/x-python",
   "name": "python",
   "nbconvert_exporter": "python",
   "pygments_lexer": "ipython3",
   "version": "3.12.7"
  }
 },
 "nbformat": 4,
 "nbformat_minor": 5
}
